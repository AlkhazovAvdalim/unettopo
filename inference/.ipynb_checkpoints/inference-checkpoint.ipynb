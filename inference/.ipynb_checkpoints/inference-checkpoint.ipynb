{
 "cells": [
  {
   "cell_type": "code",
   "execution_count": null,
   "metadata": {
    "ExecuteTime": {
     "end_time": "2020-06-07T14:57:08.722543Z",
     "start_time": "2020-06-07T14:57:04.129479Z"
    }
   },
   "outputs": [],
   "source": [
    "import pathlib\n",
    "import matplotlib.pyplot as plt\n",
    "import numpy as np\n",
    "import tensorflow as tf\n",
    "from tensorflow import keras\n",
    "import keras.layers as layers\n",
    "from pathlib import Path\n",
    "import matplotlib.pyplot as plt\n",
    "import os\n",
    "from tqdm import tqdm_notebook\n",
    "import nbimporter\n",
    "import data_modification_inf as Modify\n",
    "import split_data_inf as Split\n",
    "import create_output_txt as Outtxt\n",
    "import subprocess\n",
    "from shutil import copyfile\n",
    "import time\n",
    "# Loads in custom metrics\n",
    "import keras.backend as K\n",
    "def dice_coef(y_true, y_pred, smooth=1):\n",
    "    y_true_f = K.flatten(y_true)\n",
    "    y_pred_f = K.flatten(y_pred)\n",
    "    intersection = K.sum(y_true_f * y_pred_f)\n",
    "    return (2. * intersection + smooth) / (K.sum(y_true_f) + K.sum(y_pred_f) + smooth)\n",
    "def kullback_leibler_divergence_test_2(y_true, y_pred):\n",
    "\n",
    "    y_true = K.clip(y_true, K.epsilon(), 1)\n",
    "    y_pred = K.clip(y_pred, K.epsilon(), 1)\n",
    "    return K.sum(y_true * abs(K.log(y_true /  y_pred)), axis=-1)\n",
    "\n",
    "custom_metr = custom_objects={\n",
    "        \"kullback_leibler_divergence_test_2\":kullback_leibler_divergence_test_2,\n",
    "        \"dice_coef\": dice_coef}\n",
    "def load_model(ID, MODEL_ROOT):\n",
    "    model_path  =os.path.join(MODEL_ROOT,str(ID+\".h5\"))\n",
    "    loaded_model = tf.keras.models.load_model(model_path,custom_metr)\n",
    "    return loaded_model"
   ]
  },
  {
   "cell_type": "code",
   "execution_count": null,
   "metadata": {
    "ExecuteTime": {
     "end_time": "2020-06-07T14:57:08.734238Z",
     "start_time": "2020-06-07T14:57:08.722543Z"
    }
   },
   "outputs": [],
   "source": [
    "# Enter the Inference Folder Path\n",
    "INFERENCE_FOLDER_PATH = \"\"\n",
    "# Enter the ID of the model located in the utils subfolder\n",
    "model_ID = \"\"\n",
    "DATA_PATH = os.path.join(INFERENCE_FOLDER_PATH,\"data\")\n",
    "DATA_PATH_RAW = os.path.join(DATA_PATH,\"raw\")\n",
    "TEMP_PATH = os.path.join(INFERENCE_FOLDER_PATH,\"temp\")\n",
    "os.makedirs(TEMP_PATH,exist_ok=True)\n",
    "MODEL_PATH = os.path.join(INFERENCE_FOLDER_PATH,\"utils\")\n",
    "# Specify the Model ID\n",
    "SAVE_ROOT = os.path.join(INFERENCE_FOLDER_PATH,\"out\")\n",
    "os.makedirs(TEMP_PATH,exist_ok=True)\n",
    "MODIFIED_DATA_PATH = os.path.join(TEMP_PATH,\"modified\")\n",
    "os.makedirs(MODIFIED_DATA_PATH,exist_ok=True)\n",
    "SPLIT_DATA_PATH = os.path.join(TEMP_PATH,\"split\")\n",
    "os.makedirs(SPLIT_DATA_PATH,exist_ok=True)\n",
    "CONVERTER_PATH = os.path.join(INFERENCE_FOLDER_PATH,\"utils\")\n",
    "SPEC_SAVE_ROOT = os.path.join(SAVE_ROOT, model_ID)"
   ]
  },
  {
   "cell_type": "code",
   "execution_count": null,
   "metadata": {
    "ExecuteTime": {
     "end_time": "2020-06-07T15:00:10.145442Z",
     "start_time": "2020-06-07T14:57:08.734238Z"
    }
   },
   "outputs": [],
   "source": [
    "# Modify the raw data\n",
    "Modify.full_auto(DATA_PATH, MODIFIED_DATA_PATH)"
   ]
  },
  {
   "cell_type": "code",
   "execution_count": null,
   "metadata": {
    "ExecuteTime": {
     "end_time": "2020-06-07T15:00:14.518401Z",
     "start_time": "2020-06-07T15:00:10.145442Z"
    }
   },
   "outputs": [],
   "source": [
    "# Split and pad it\n",
    "Split.full_auto_split(MODIFIED_DATA_PATH,SPLIT_DATA_PATH)"
   ]
  },
  {
   "cell_type": "code",
   "execution_count": null,
   "metadata": {
    "ExecuteTime": {
     "end_time": "2020-06-07T15:00:36.250693Z",
     "start_time": "2020-06-07T15:00:14.518401Z"
    }
   },
   "outputs": [],
   "source": [
    "# Load the Model\n",
    "tf.keras.backend.clear_session()\n",
    "model = load_model(model_ID,MODEL_PATH)"
   ]
  },
  {
   "cell_type": "code",
   "execution_count": null,
   "metadata": {
    "ExecuteTime": {
     "end_time": "2020-06-07T15:04:41.188178Z",
     "start_time": "2020-06-07T15:00:36.250693Z"
    }
   },
   "outputs": [],
   "source": [
    "# Create the output folders\n",
    "MODIFIED_DATA_PATH_temp, SPLIT_DATA_PATH_temp = Modify.loadcase_folder_paths(MODIFIED_DATA_PATH,SPLIT_DATA_PATH)\n",
    "\n",
    "for i , s in enumerate(SPLIT_DATA_PATH_temp):\n",
    "    print(s)\n",
    "    Outtxt.create_prediction_txt(model,DATA_PATH_RAW,s, model_ID\n",
    "                          ,SPEC_SAVE_ROOT,CONVERTER_PATH)"
   ]
  }
 ],
 "metadata": {
  "kernelspec": {
   "display_name": "Python 3",
   "language": "python",
   "name": "python3"
  },
  "language_info": {
   "codemirror_mode": {
    "name": "ipython",
    "version": 3
   },
   "file_extension": ".py",
   "mimetype": "text/x-python",
   "name": "python",
   "nbconvert_exporter": "python",
   "pygments_lexer": "ipython3",
   "version": "3.7.5"
  },
  "toc": {
   "base_numbering": 1,
   "nav_menu": {},
   "number_sections": true,
   "sideBar": true,
   "skip_h1_title": false,
   "title_cell": "Table of Contents",
   "title_sidebar": "Contents",
   "toc_cell": false,
   "toc_position": {},
   "toc_section_display": true,
   "toc_window_display": false
  },
  "varInspector": {
   "cols": {
    "lenName": 16,
    "lenType": 16,
    "lenVar": 40
   },
   "kernels_config": {
    "python": {
     "delete_cmd_postfix": "",
     "delete_cmd_prefix": "del ",
     "library": "var_list.py",
     "varRefreshCmd": "print(var_dic_list())"
    },
    "r": {
     "delete_cmd_postfix": ") ",
     "delete_cmd_prefix": "rm(",
     "library": "var_list.r",
     "varRefreshCmd": "cat(var_dic_list()) "
    }
   },
   "types_to_exclude": [
    "module",
    "function",
    "builtin_function_or_method",
    "instance",
    "_Feature"
   ],
   "window_display": false
  }
 },
 "nbformat": 4,
 "nbformat_minor": 2
}
