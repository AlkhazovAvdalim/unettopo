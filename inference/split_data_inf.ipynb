{
 "cells": [
  {
   "cell_type": "code",
   "execution_count": null,
   "metadata": {
    "ExecuteTime": {
     "end_time": "2020-06-01T11:50:30.482031Z",
     "start_time": "2020-06-01T11:50:25.228117Z"
    }
   },
   "outputs": [],
   "source": [
    "from tqdm import tqdm_notebook\n",
    "import pathlib\n",
    "import os\n",
    "import numpy as np\n",
    "import nbimporter\n",
    "# Import our data_modification.ipynb as Modify to use functions from it\n",
    "import data_modification_inf as Modify"
   ]
  },
  {
   "cell_type": "code",
   "execution_count": null,
   "metadata": {
    "ExecuteTime": {
     "end_time": "2020-04-15T11:03:59.493810Z",
     "start_time": "2020-04-15T11:03:59.490819Z"
    }
   },
   "outputs": [],
   "source": [
    "# Create the Folder for the Split Data and Get the PATHS of the Split Folders and Modified Folders\n",
    "# FOLDER_PATHS, SPLIT_FOLDER_PATHS = Modify.loadcase_folder_paths(MODIFIED_DATA_PATH,SPLIT_DATA_PATH)\n",
    "# Pass the Modified Folder Paths and get the Names and Paths of the different Data instances\n",
    "# modified_data_names, modified_data_paths = Modify.get_data_names_paths(FOLDER_PATHS)\n",
    "# So FOLDER_PATHS =  PATHS of the MODIFIED FOLDERS, SPLIT_FOLDER_PATHS = PATHS of SPLIT Folders\n",
    "# MODIFIED_DATA_NAMES and _PATHS = all names and the PATHS of the modified data\n",
    "# All Data is split into n with n being the Amount of Loadcase Subfolders, in this Case 1\n",
    "# print(modified_data_names)\n",
    "\n",
    "\n"
   ]
  },
  {
   "cell_type": "code",
   "execution_count": null,
   "metadata": {
    "ExecuteTime": {
     "end_time": "2020-06-01T11:50:30.561764Z",
     "start_time": "2020-06-01T11:50:30.554799Z"
    }
   },
   "outputs": [],
   "source": [
    "# Add a border for the Dataset, when we have a 64x48 Dimension\n",
    "# Question is: will it work without problems?\n",
    "def add_padding(array,x_offset=1,y_offset=0):\n",
    "    x_shape_old = np.shape(array)[0]\n",
    "    y_shape_old = np.shape(array)[1]\n",
    "    x_new = x_shape_old+1\n",
    "    y_new = y_shape_old+1\n",
    "    new = np.zeros((x_new,y_new))\n",
    "    new[x_offset:array.shape[0]+x_offset,y_offset:array.shape[1]+y_offset] = array\n",
    "    return new\n"
   ]
  },
  {
   "cell_type": "code",
   "execution_count": null,
   "metadata": {
    "ExecuteTime": {
     "end_time": "2020-06-01T11:52:52.570374Z",
     "start_time": "2020-06-01T11:52:52.552463Z"
    }
   },
   "outputs": [],
   "source": [
    "# Iteration Skip is the Amount of Iterations skipped from the 0-th Iteration in the Output\n",
    "def split_data(MODIFIED_FOLDER_PATH, MODIFIED_DATA_NAMES,SPLIT_FOLDER_PATH,ITERATION_SKIP,padding = True):\n",
    "    UNDER_ITERATION_SKIP = []\n",
    "    # Check for the Checkpoint and Faulty data\n",
    "    if all(x in MODIFIED_DATA_NAMES for x in ['checkpoint.npy', 'faulty.npy']):\n",
    "        MODIFIED_DATA_NAMES = np.array(MODIFIED_DATA_NAMES[2:])\n",
    "        print (\"Checkpoint and Faulty found, skipping them, starting at: \", MODIFIED_DATA_NAMES[0])\n",
    "\n",
    "    for i,s in tqdm_notebook(enumerate(MODIFIED_DATA_NAMES)):\n",
    "# Loads the Modified Data\n",
    "        modified_data = np.load(os.path.join(MODIFIED_FOLDER_PATH,s),allow_pickle=True)\n",
    "        input_folder_path =os.path.join(SPLIT_FOLDER_PATH, 'Input')\n",
    "        os.makedirs(input_folder_path, exist_ok= True)\n",
    "#         print(get_shape)\n",
    "# Creates The Path and name for the split data Input and Output\n",
    "        split_path_input= os.path.join(input_folder_path,s)\n",
    "\n",
    "        if padding == True:\n",
    "            modified_data[0] = add_padding(modified_data[0])\n",
    "            modified_data[3] = add_padding(modified_data[3])\n",
    "            modified_data[4] = add_padding(modified_data[4])\n",
    "            modified_data[5] = add_padding(modified_data[5])\n",
    "            np.save(split_path_input,[np.array(modified_data[0]),np.array(modified_data[1]),\n",
    "                                      np.array(modified_data[2]),np.array(modified_data[3]),\n",
    "                                      np.array(modified_data[4]),np.array(modified_data[5])])\n",
    "        else:\n",
    "#             Seperate into Channels \n",
    "            np.save(split_path_input,[np.array(modified_data[0]),np.array(modified_data[1]),\n",
    "                                      np.array(modified_data[2]),np.array(modified_data[3]),\n",
    "                                      np.array(modified_data[4]),np.array(modified_data[5])])"
   ]
  },
  {
   "cell_type": "code",
   "execution_count": null,
   "metadata": {
    "ExecuteTime": {
     "end_time": "2020-06-01T12:20:21.318079Z",
     "start_time": "2020-06-01T11:52:54.064298Z"
    }
   },
   "outputs": [],
   "source": [
    "def full_auto_split(MODIFIED_DATA_PATH,SPLIT_DATA_PATH,MAX_ITER=300):\n",
    "    FOLDER_PATHS, SPLIT_FOLDER_PATHS = Modify.loadcase_folder_paths(MODIFIED_DATA_PATH,SPLIT_DATA_PATH)\n",
    "    modified_data_names, modified_data_paths = Modify.get_data_names_paths(FOLDER_PATHS)\n",
    "#     print(modified_data_names,modified_data_paths)\n",
    "    for i,s in enumerate(FOLDER_PATHS):\n",
    "        os.makedirs(SPLIT_DATA_PATH, exist_ok=True)\n",
    "        split_data(FOLDER_PATHS[i],modified_data_names[i],SPLIT_FOLDER_PATHS[i],MAX_ITER)\n",
    "        \n",
    "full_auto_split(MODIFIED_DATA_PATH,SPLIT_DATA_PATH)"
   ]
  }
 ],
 "metadata": {
  "kernelspec": {
   "display_name": "Python 3",
   "language": "python",
   "name": "python3"
  },
  "language_info": {
   "codemirror_mode": {
    "name": "ipython",
    "version": 3
   },
   "file_extension": ".py",
   "mimetype": "text/x-python",
   "name": "python",
   "nbconvert_exporter": "python",
   "pygments_lexer": "ipython3",
   "version": "3.7.5"
  },
  "toc": {
   "base_numbering": 1,
   "nav_menu": {},
   "number_sections": true,
   "sideBar": true,
   "skip_h1_title": false,
   "title_cell": "Table of Contents",
   "title_sidebar": "Contents",
   "toc_cell": false,
   "toc_position": {},
   "toc_section_display": true,
   "toc_window_display": false
  },
  "varInspector": {
   "cols": {
    "lenName": 16,
    "lenType": 16,
    "lenVar": 40
   },
   "kernels_config": {
    "python": {
     "delete_cmd_postfix": "",
     "delete_cmd_prefix": "del ",
     "library": "var_list.py",
     "varRefreshCmd": "print(var_dic_list())"
    },
    "r": {
     "delete_cmd_postfix": ") ",
     "delete_cmd_prefix": "rm(",
     "library": "var_list.r",
     "varRefreshCmd": "cat(var_dic_list()) "
    }
   },
   "types_to_exclude": [
    "module",
    "function",
    "builtin_function_or_method",
    "instance",
    "_Feature"
   ],
   "window_display": false
  }
 },
 "nbformat": 4,
 "nbformat_minor": 2
}
