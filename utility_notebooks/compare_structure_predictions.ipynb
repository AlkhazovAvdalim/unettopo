{
 "cells": [
  {
   "cell_type": "code",
   "execution_count": null,
   "metadata": {
    "ExecuteTime": {
     "end_time": "2020-06-05T11:26:05.721076Z",
     "start_time": "2020-06-05T11:26:00.716085Z"
    }
   },
   "outputs": [],
   "source": [
    "import pathlib\n",
    "import matplotlib.pyplot as plt\n",
    "import numpy as np\n",
    "import tensorflow as tf\n",
    "from tensorflow import keras\n",
    "import keras.layers as layers\n",
    "from pathlib import Path\n",
    "import matplotlib.pyplot as plt\n",
    "import os\n",
    "\n",
    "# Custom Metric to load the models without problems\n",
    "import keras.backend as K\n",
    "def dice_coef(y_true, y_pred, smooth=1):\n",
    "    y_true_f = K.flatten(y_true)\n",
    "    y_pred_f = K.flatten(y_pred)\n",
    "    intersection = K.sum(y_true_f * y_pred_f)\n",
    "    return (2. * intersection + smooth) / (K.sum(y_true_f) + K.sum(y_pred_f) + smooth)\n",
    "def kullback_leibler_divergence_test_2(y_true, y_pred):\n",
    "\n",
    "    y_true = K.clip(y_true, K.epsilon(), 1)\n",
    "    y_pred = K.clip(y_pred, K.epsilon(), 1)\n",
    "    return K.sum(y_true * abs(K.log(y_true /  y_pred)), axis=-1)\n",
    "\n",
    "custom_metr = custom_objects={\n",
    "        \"kullback_leibler_divergence_test_2\":kullback_leibler_divergence_test_2,\n",
    "        \"dice_coef\": dice_coef}\n",
    "\n",
    "# def create_path_from_title(title):\n",
    "#     path = title+\"/\"+title+\".h5\"\n",
    "#     return path\n",
    "\n",
    "# Loadcases chosen : LoadCase_7885,LoadCase_7818, LoadCase_7831, LoadCase_7852\n",
    "def save_fig(fig_id,path, tight_layout=True, fig_extension=\"png\", resolution=300):\n",
    "    os.makedirs(path,exist_ok=True)\n",
    "    path = os.path.join(path, fig_id + \".\" + fig_extension)\n",
    "    print(\"Saving figure\", fig_id)\n",
    "    if tight_layout:\n",
    "        plt.tight_layout()\n",
    "    plt.savefig(path, format=fig_extension, dpi=resolution)\n",
    "    \n",
    "# Define The Path of the Test Set\n",
    "# Make a function to load the Inputs from the Files as np.array to predict from it\n",
    "def create_instance(TEST_SET_PATH):\n",
    "    instances = []\n",
    "    input_path =os.path.join(TEST_SET_PATH,\"Input\")\n",
    "    input_names = os.listdir(input_path)\n",
    "    for i in input_names:\n",
    "        loaded_array_x = np.load(os.path.join(input_path,i),allow_pickle = True)\n",
    "        instances.append(loaded_array_x)\n",
    "    return np.array(instances),input_names\n",
    "# Flipping the Image so we have Cartesian coordinates\n",
    "def flip_for_imshow(structure):\n",
    "    get_shape = np.shape(structure)[1:]\n",
    "    print(get_shape)\n",
    "\n",
    "    structure = (np.reshape(structure,get_shape))\n",
    "    return structure\n",
    "# Gets the Volume Fraction of given Structure\n",
    "def volfrac_of_structure(structure):\n",
    "    get_shape = np.shape(structure)\n",
    "    print(get_shape)\n",
    "    sum_ = np.sum(np.reshape(structure,get_shape))\n",
    "    \n",
    "    div_ = sum_/(int(get_shape[0])*int(get_shape[1]))\n",
    "    return div_\n",
    "# Imports the Ground Truth\n",
    "def get_ground_truth(TEST_SET_PATH):\n",
    "    instances = []\n",
    "    output_path =os.path.join(TEST_SET_PATH,\"Output\")\n",
    "    output_names = os.listdir(output_path)\n",
    "    for i in output_names:\n",
    "        loaded_array_x = np.load(os.path.join(output_path,i),allow_pickle = True)\n",
    "        instances.append(loaded_array_x)\n",
    "    return np.array(instances)\n",
    "\n",
    "# Calling this function predicts the given instances\n",
    "def create_predictions(model,test_instances):\n",
    "    predictions = model.predict(test_instances)\n",
    "    return predictions\n",
    "# Loads the Models and puts them into a list\n",
    "def load_models(IDs,TRIALS_ROOT):\n",
    "    loaded_models = []\n",
    "    for ID in IDs:\n",
    "        model_path  =os.path.join(TRIALS_ROOT,ID,str(ID+\".h5\"))\n",
    "        loaded_model = tf.keras.models.load_model(model_path,custom_metr)\n",
    "        loaded_models.append(loaded_model)\n",
    "    return loaded_models\n"
   ]
  },
  {
   "cell_type": "code",
   "execution_count": null,
   "metadata": {
    "ExecuteTime": {
     "end_time": "2020-06-05T11:48:41.136411Z",
     "start_time": "2020-06-05T11:48:41.128464Z"
    }
   },
   "outputs": [],
   "source": [
    "# Root of the Model Trials\n",
    "TRIALS_ROOT = \"\"\n",
    "# Trial Ids\n",
    "IDs = [\"\"]\n",
    "# Path to save images to\n",
    "IMG_PATH = \"\"\n",
    "# IMG title\n",
    "comparison_title = \"\"\n",
    "# Path of the data the model predicts from\n",
    "TEST_SET_PATH = \"\"\n",
    "# Choosen Loadcases to compare\n",
    "loadcase_names = [\"\"]\n"
   ]
  },
  {
   "cell_type": "code",
   "execution_count": null,
   "metadata": {
    "ExecuteTime": {
     "end_time": "2020-06-05T11:48:31.633367Z",
     "start_time": "2020-06-05T11:46:02.565275Z"
    }
   },
   "outputs": [],
   "source": [
    "tf.keras.backend.clear_session()\n",
    "loaded_models = load_models(IDs,TRIALS_ROOT)"
   ]
  },
  {
   "cell_type": "code",
   "execution_count": null,
   "metadata": {
    "ExecuteTime": {
     "end_time": "2020-06-05T11:44:05.952808Z",
     "start_time": "2020-06-05T11:44:05.932834Z"
    }
   },
   "outputs": [],
   "source": [
    "# This function compares the different predictions with the Ground Truth based on a loadcase\n",
    "\n",
    "def create_prediction_images(loaded_models,loadcase_name,TEST_SET_PATH,IDs,comparison_title,\n",
    "                             IMG_PATH):\n",
    "# Create the Test set\n",
    "    test_instances,test_names = create_instance(TEST_SET_PATH)\n",
    "# Get the Index of given Loadcase\n",
    "    loadcase_index = test_names.index(loadcase_name)\n",
    "# Get the Ground truth\n",
    "    ground_truth = get_ground_truth(TEST_SET_PATH)\n",
    "    model_predictions = []\n",
    "# Needed for the amount of Images shown\n",
    "    len_IDs = len(IDs)\n",
    "# Title under which the Image is saved\n",
    "    img_title = str(\"Loadcase \"+str(loadcase_name)+str(comparison_title))\n",
    "# Predict with each model and append those predictions\n",
    "    for model in loaded_models:\n",
    "        predictions = create_predictions(model,test_instances)\n",
    "        model_predictions.append(predictions)\n",
    "# Get the one Datapoint for the Loadcase\n",
    "    ground_truth_loadcase = flip_for_imshow(ground_truth[loadcase_index])\n",
    "# Define the Plot\n",
    "    f = plt.figure(figsize = (20,20))\n",
    "# First axis and plot is the Ground truth\n",
    "    ax  = f.add_subplot(len_IDs+1, 1, 1)\n",
    "    ax.set_title(str(\"Ground Truth \"+\"has the Volume Fraction \"+str(volfrac_of_structure(\n",
    "    ground_truth_loadcase))))\n",
    "    plt.imshow(ground_truth_loadcase, cmap=\"gray_r\")\n",
    "# For each of the Models an Subplot is generated\n",
    "    for i,s in enumerate(model_predictions):\n",
    "        ax = f.add_subplot( len_IDs+1, 1, i + 2)\n",
    "        predicted_loadcase_structure = flip_for_imshow(s[loadcase_index])\n",
    "        ax.set_title(str(\"Model: \"+str(IDs[i])+\" has the Volume Fraction \"+str(volfrac_of_structure(\n",
    "        predicted_loadcase_structure))))\n",
    "        plt.imshow(predicted_loadcase_structure, cmap=\"gray_r\")\n",
    "# Save the Image\n",
    "    save_fig(img_title,IMG_PATH)\n",
    "    plt.show(block=True)\n",
    "\n",
    "\n",
    "\n"
   ]
  },
  {
   "cell_type": "code",
   "execution_count": null,
   "metadata": {
    "ExecuteTime": {
     "end_time": "2020-06-05T11:49:18.831629Z",
     "start_time": "2020-06-05T11:48:43.407435Z"
    }
   },
   "outputs": [],
   "source": [
    "# We got multiple test Loadcases\n",
    "for i in loadcase_names:\n",
    "    create_prediction_images(loaded_models,i,TEST_SET_PATH,IDs,comparison_title,\n",
    "                             IMG_PATH)\n"
   ]
  }
 ],
 "metadata": {
  "kernelspec": {
   "display_name": "Python 3",
   "language": "python",
   "name": "python3"
  },
  "language_info": {
   "codemirror_mode": {
    "name": "ipython",
    "version": 3
   },
   "file_extension": ".py",
   "mimetype": "text/x-python",
   "name": "python",
   "nbconvert_exporter": "python",
   "pygments_lexer": "ipython3",
   "version": "3.7.5"
  },
  "toc": {
   "base_numbering": 1,
   "nav_menu": {},
   "number_sections": true,
   "sideBar": true,
   "skip_h1_title": false,
   "title_cell": "Table of Contents",
   "title_sidebar": "Contents",
   "toc_cell": false,
   "toc_position": {},
   "toc_section_display": true,
   "toc_window_display": false
  },
  "varInspector": {
   "cols": {
    "lenName": 16,
    "lenType": 16,
    "lenVar": 40
   },
   "kernels_config": {
    "python": {
     "delete_cmd_postfix": "",
     "delete_cmd_prefix": "del ",
     "library": "var_list.py",
     "varRefreshCmd": "print(var_dic_list())"
    },
    "r": {
     "delete_cmd_postfix": ") ",
     "delete_cmd_prefix": "rm(",
     "library": "var_list.r",
     "varRefreshCmd": "cat(var_dic_list()) "
    }
   },
   "types_to_exclude": [
    "module",
    "function",
    "builtin_function_or_method",
    "instance",
    "_Feature"
   ],
   "window_display": false
  }
 },
 "nbformat": 4,
 "nbformat_minor": 2
}
