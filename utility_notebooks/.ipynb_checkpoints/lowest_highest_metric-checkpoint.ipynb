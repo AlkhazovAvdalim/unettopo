{
 "cells": [
  {
   "cell_type": "code",
   "execution_count": null,
   "metadata": {
    "ExecuteTime": {
     "end_time": "2020-06-05T19:38:49.986471Z",
     "start_time": "2020-06-05T19:38:49.981445Z"
    }
   },
   "outputs": [],
   "source": [
    "import json\n",
    "import matplotlib.pyplot as plt\n",
    "import os\n",
    "import numpy as np\n",
    "import ast\n",
    "# Function to save the Plots\n",
    "def save_fig(fig_id,path, tight_layout=True, fig_extension=\"png\", resolution=300):\n",
    "    path = os.path.join(path, fig_id + \".\" + fig_extension)\n",
    "    print(\"Saving figure\", fig_id)\n",
    "    if tight_layout:\n",
    "        plt.tight_layout()\n",
    "    plt.savefig(path, format=fig_extension, dpi=resolution)"
   ]
  },
  {
   "cell_type": "code",
   "execution_count": null,
   "metadata": {
    "ExecuteTime": {
     "end_time": "2020-06-05T19:38:49.958691Z",
     "start_time": "2020-06-05T19:38:44.547101Z"
    }
   },
   "outputs": [],
   "source": [
    "# Define the Paths \n",
    "\n",
    "# The Path with the Trials\n",
    "TRIALS_ROOT = \"\"\n",
    "# The Trial IDs to be compared with each other\n",
    "IDs = [\"\"]\n",
    "# The Path to save the Images\n",
    "IMG_PATH = \"\"\n",
    "os.makedirs(IMG_PATH, exist_ok=True)\n",
    "# The Title under which the Images are saved\n",
    "comparison_title = \"\"\n",
    "# The type of metric to plot against each other\n",
    "metric = \"\"\n",
    "# \"dice_coef\"\n",
    "# \"loss\"\n",
    "# binary_accuracy"
   ]
  },
  {
   "cell_type": "code",
   "execution_count": null,
   "metadata": {
    "ExecuteTime": {
     "end_time": "2020-06-05T19:39:24.232004Z",
     "start_time": "2020-06-05T19:39:24.213060Z"
    }
   },
   "outputs": [],
   "source": [
    "# Get minimum values of metric (val and train)\n",
    "def get_mins(TRIALS_ROOT,IDs,metric):\n",
    "    histories = []\n",
    "    val_metric = str(\"val_\"+metric)\n",
    "    # Contains a string for the Legend with the Lowest metric and the Epoch\n",
    "    lowest_val_metric = []\n",
    "    lowest_metric = []\n",
    "    # Reads in the histories and turns them into a dictionary\n",
    "    for ID in IDs:\n",
    "        HISTORY_PATH = os.path.join(TRIALS_ROOT,ID,str(\"history_\"+ID))\n",
    "        with open(HISTORY_PATH) as his: \n",
    "            history = json.loads(his.read())\n",
    "    # Turn the string dictionary into a dictionary and append it\n",
    "            history = ast.literal_eval(history)\n",
    "            histories.append(history)\n",
    "    # Get the Indices (Epochs) of the metrices and their values, to a 3 decimal number \n",
    "    # and append those as string\n",
    "            val_metric_index_min = np.argmin(history[val_metric])\n",
    "            val_metric_min = min(history[val_metric])\n",
    "            val_metric_min = '%.5f' %val_metric_min\n",
    "            last_val_metric = '%.5f'%history[val_metric][-1]\n",
    "            lowest_val_metric.append(val_metric_min)\n",
    "            metric_index_min = np.argmin(history[metric])\n",
    "            metric_min = min(history[metric])\n",
    "            metric_min = '%.5f' %metric_min\n",
    "            last_metric = '%.5f'%history[metric][-1]\n",
    "            lowest_metric.append(metric_min) \n",
    "    min_metric=min(lowest_metric)\n",
    "    min_index_metric = np.argmin(lowest_metric)\n",
    "    print(\"Lowest \"+ metric+ \" reached at: \"+ min_metric + \" with Model: \" +IDs[min_index_metric])\n",
    "    min_val_metric=min(lowest_val_metric)\n",
    "    min_index_val_metric = np.argmin(lowest_val_metric)\n",
    "    print(\"Lowest \"+ val_metric+ \" reached at: \"+ min_val_metric + \" with Model: \" +IDs[min_index_val_metric])\n",
    "get_mins(TRIALS_ROOT,all_ids,metric)"
   ]
  },
  {
   "cell_type": "code",
   "execution_count": null,
   "metadata": {
    "ExecuteTime": {
     "end_time": "2020-06-05T19:39:27.063681Z",
     "start_time": "2020-06-05T19:39:27.041700Z"
    }
   },
   "outputs": [],
   "source": [
    "# Get maximum values of metric (val and train)\n",
    "\n",
    "def get_maxs(TRIALS_ROOT,IDs,metric):\n",
    "    histories = []\n",
    "    val_metric = str(\"val_\"+metric)\n",
    "    # Contains a string for the Legend with the highest metric and the Epoch\n",
    "    highest_val_metric = []\n",
    "    highest_metric = []\n",
    "    # Reads in the histories and turns them into a dictionary\n",
    "    for ID in IDs:\n",
    "        HISTORY_PATH = os.path.join(TRIALS_ROOT,ID,str(\"history_\"+ID))\n",
    "        with open(HISTORY_PATH) as his: \n",
    "            history = json.loads(his.read())\n",
    "    # Turn the string dictionary into a dictionary and append it\n",
    "            history = ast.literal_eval(history)\n",
    "            histories.append(history)\n",
    "    # Get the Indices (Epochs) of the metrices and their values, to a 3 decimal number \n",
    "    # and append those as string\n",
    "            val_metric_index_max = np.argmax(history[val_metric])\n",
    "            val_metric_max = max(history[val_metric])\n",
    "            val_metric_max = '%.5f' %val_metric_max\n",
    "            last_val_metric = '%.5f'%history[val_metric][-1]\n",
    "            highest_val_metric.append(val_metric_max)\n",
    "            metric_index_max = np.argmax(history[metric])\n",
    "            metric_max = max(history[metric])\n",
    "            metric_max = '%.5f' %metric_max\n",
    "            last_metric = '%.5f'%history[metric][-1]\n",
    "            highest_metric.append(metric_max) \n",
    "    max_metric=max(highest_metric)\n",
    "    max_index_metric = np.argmax(highest_metric)\n",
    "    print(\"highest \"+ metric+ \" reached at: \"+ max_metric + \" with Model: \" +IDs[max_index_metric])\n",
    "    max_val_metric=max(highest_val_metric)\n",
    "    max_index_val_metric = np.argmax(highest_val_metric)\n",
    "    print(\"highest \"+ val_metric+ \" reached at: \"+ max_val_metric + \" with Model: \" +IDs[max_index_val_metric]\n",
    "         )\n",
    "          \n",
    "get_maxs(TRIALS_ROOT,all_ids,metric)"
   ]
  },
  {
   "cell_type": "code",
   "execution_count": null,
   "metadata": {
    "ExecuteTime": {
     "end_time": "2020-05-28T11:57:05.331759Z",
     "start_time": "2020-05-28T11:57:05.295953Z"
    }
   },
   "outputs": [],
   "source": [
    "# Get min and max values in the last epoch for the metric\n",
    "def get_last_mins_maxs(TRIALS_ROOT,IDs,metric):\n",
    "    histories = []\n",
    "    val_metric = str(\"val_\"+metric)\n",
    "    # Contains a string for the Legend with the Lowest metric and the Epoch\n",
    "    lowest_val_metric = []\n",
    "    lowest_metric = []\n",
    "    last_val_metrics= []\n",
    "    last_metrics = []\n",
    "    # Reads in the histories and turns them into a dictionary\n",
    "    for ID in IDs:\n",
    "        HISTORY_PATH = os.path.join(TRIALS_ROOT,ID,str(\"history_\"+ID))\n",
    "        with open(HISTORY_PATH) as his: \n",
    "            history = json.loads(his.read())\n",
    "    # Turn the string dictionary into a dictionary and append it\n",
    "            history = ast.literal_eval(history)\n",
    "            histories.append(history)\n",
    "    # Get the Indices (Epochs) of the metrices and their values, to a 3 decimal number \n",
    "    # and append those as string\n",
    "            val_metric_index_min = np.argmin(history[val_metric])\n",
    "            val_metric_min = min(history[val_metric])\n",
    "            val_metric_min = '%.5f' %val_metric_min\n",
    "            last_val_metric = '%.5f'%history[val_metric][-1]\n",
    "            lowest_val_metric.append(val_metric_min)\n",
    "            last_val_metrics.append(last_val_metric)\n",
    "            metric_index_min = np.argmin(history[metric])\n",
    "            metric_min = min(history[metric])\n",
    "            metric_min = '%.5f' %metric_min\n",
    "            last_metric = '%.5f'%history[metric][-1]\n",
    "            last_metrics.append(last_metric)\n",
    "            lowest_metric.append(metric_min) \n",
    "    min_metric=min(last_metrics)\n",
    "    min_index_metric = np.argmin(last_metrics)\n",
    "    print(\"Lowest Last \"+ metric+ \" reached at: \"+ min_metric + \" with Model: \" +IDs[min_index_metric])\n",
    "    min_val_metric=min(last_val_metrics)\n",
    "    min_index_val_metric = np.argmin(last_val_metrics)\n",
    "    print(\"Lowest Last\"+ val_metric+ \" reached at: \"+ min_val_metric + \" with Model: \" +IDs[min_index_val_metric])\n",
    "    max_metric=max(last_metrics)\n",
    "    max_index_metric = np.argmax(last_metrics)\n",
    "    print(\"Highest Last \"+ metric+ \" reached at: \"+ max_metric + \" with Model: \" +IDs[max_index_metric])\n",
    "    max_val_metric=max(last_val_metrics)\n",
    "    max_index_val_metric = np.argmax(last_val_metrics)\n",
    "    print(\"Highest Last\"+ val_metric+ \" reached at: \"+ max_val_metric + \" with Model: \" +IDs[max_index_val_metric])\n",
    "\n",
    "metric = \"binary_accuracy\" \n",
    "get_last_mins_maxs(TRIALS_ROOT,all_ids,metric)"
   ]
  }
 ],
 "metadata": {
  "kernelspec": {
   "display_name": "Python 3",
   "language": "python",
   "name": "python3"
  },
  "language_info": {
   "codemirror_mode": {
    "name": "ipython",
    "version": 3
   },
   "file_extension": ".py",
   "mimetype": "text/x-python",
   "name": "python",
   "nbconvert_exporter": "python",
   "pygments_lexer": "ipython3",
   "version": "3.7.5"
  },
  "toc": {
   "base_numbering": 1,
   "nav_menu": {},
   "number_sections": true,
   "sideBar": true,
   "skip_h1_title": false,
   "title_cell": "Table of Contents",
   "title_sidebar": "Contents",
   "toc_cell": false,
   "toc_position": {},
   "toc_section_display": true,
   "toc_window_display": false
  },
  "varInspector": {
   "cols": {
    "lenName": 16,
    "lenType": 16,
    "lenVar": 40
   },
   "kernels_config": {
    "python": {
     "delete_cmd_postfix": "",
     "delete_cmd_prefix": "del ",
     "library": "var_list.py",
     "varRefreshCmd": "print(var_dic_list())"
    },
    "r": {
     "delete_cmd_postfix": ") ",
     "delete_cmd_prefix": "rm(",
     "library": "var_list.r",
     "varRefreshCmd": "cat(var_dic_list()) "
    }
   },
   "types_to_exclude": [
    "module",
    "function",
    "builtin_function_or_method",
    "instance",
    "_Feature"
   ],
   "window_display": false
  }
 },
 "nbformat": 4,
 "nbformat_minor": 2
}
