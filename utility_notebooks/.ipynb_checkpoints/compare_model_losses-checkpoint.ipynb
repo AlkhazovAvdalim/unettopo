{
 "cells": [
  {
   "cell_type": "code",
   "execution_count": null,
   "metadata": {
    "ExecuteTime": {
     "end_time": "2020-05-24T08:43:21.705433Z",
     "start_time": "2020-05-24T08:43:21.327418Z"
    }
   },
   "outputs": [],
   "source": [
    "import json\n",
    "import matplotlib.pyplot as plt\n",
    "import os\n",
    "import numpy as np\n",
    "import ast\n",
    "# Function to save the Plots\n",
    "def save_fig(fig_id,path, tight_layout=True, fig_extension=\"png\", resolution=300):\n",
    "    path = os.path.join(path, fig_id + \".\" + fig_extension)\n",
    "    print(\"Saving figure\", fig_id)\n",
    "    if tight_layout:\n",
    "        plt.tight_layout()\n",
    "    plt.savefig(path, format=fig_extension, dpi=resolution)"
   ]
  },
  {
   "cell_type": "code",
   "execution_count": null,
   "metadata": {
    "ExecuteTime": {
     "end_time": "2020-05-24T08:44:00.030621Z",
     "start_time": "2020-05-24T08:44:00.025636Z"
    }
   },
   "outputs": [],
   "source": [
    "# Define the Paths \n",
    "\n",
    "# The Path with the Trials\n",
    "TRIALS_ROOT = \"\"\n",
    "# The Trial IDs to be compared with each other\n",
    "IDs = [\"\"]\n",
    "# The Path to save the Images\n",
    "IMG_PATH = \"\"\n",
    "# The Title under which the Images are saved\n",
    "comparison_title = \"\""
   ]
  },
  {
   "cell_type": "code",
   "execution_count": null,
   "metadata": {
    "ExecuteTime": {
     "end_time": "2020-05-24T08:44:03.336780Z",
     "start_time": "2020-05-24T08:44:01.806222Z"
    }
   },
   "outputs": [],
   "source": [
    "def import_and_draw_history(TRIALS_ROOT,IMG_PATH,IDs,title):\n",
    "# List of all histories of IDs\n",
    "    histories = []\n",
    "# Contains a string for the Legend with the Lowest loss and the Epoch\n",
    "    lowest_val_loss = []\n",
    "    lowest_loss = []\n",
    "# Reads in the histories and turns them into a dictionary\n",
    "    for ID in IDs:\n",
    "        HISTORY_PATH = os.path.join(TRIALS_ROOT,ID,str(\"history_\"+ID))\n",
    "        with open(HISTORY_PATH) as his: \n",
    "            history = json.loads(his.read())\n",
    "# Turn the string dictionary into a dictionary and append it\n",
    "            history = ast.literal_eval(history)\n",
    "            histories.append(history)\n",
    "# Get the Indices (Epochs) of the Losses and their values, to a 3 decimal number \n",
    "# and append those as string\n",
    "            val_loss_index_min = np.argmin(history['val_loss'])\n",
    "            val_loss_min = min(history['val_loss'])\n",
    "            val_loss_min = '%.3f' %val_loss_min\n",
    "            last_val_loss = '%.3f'%history['val_loss'][-1]\n",
    "            lowest_val_loss.append(str(\"Lowest Val_Loss is:\"+val_loss_min+\", at Epoch:\"+\n",
    "                                       str(val_loss_index_min)+\" last val_loss:\"+\n",
    "                                  str(last_val_loss)))\n",
    "            loss_index_min = np.argmin(history['loss'])\n",
    "            loss_min = min(history['loss'])\n",
    "            loss_min = '%.3f' %loss_min\n",
    "            last_loss = '%.3f'%history['loss'][-1]\n",
    "            lowest_loss.append(str(\"Lowest Loss is:\"+loss_min+\", at Epoch:\"+\n",
    "                                       str(loss_index_min)+\" last Loss:\"+\n",
    "                                  str(last_loss))) \n",
    "# Make the Legend and combine the IDs with the Strings of the lowest losses            \n",
    "    val_loss_legend = list(zip(IDs,lowest_val_loss))\n",
    "    loss_legend = list(zip(IDs,lowest_loss))\n",
    "# Plot and Save\n",
    "    for history in histories:\n",
    "        plt.plot(history['val_loss'])\n",
    "    plt.legend(val_loss_legend, loc='upper right')\n",
    "    plt.title('Validation Loss')\n",
    "    plt.ylabel('val_loss')\n",
    "    plt.xlabel('Epoch')\n",
    "    save_fig(title+\"_val_loss\",IMG_PATH)\n",
    "    img_ = plt.show()\n",
    "    \n",
    "    for history in histories:\n",
    "        plt.plot(history['loss'])\n",
    "    plt.legend(loss_legend, loc='upper right')\n",
    "    plt.title('Training Loss')\n",
    "    plt.ylabel('training_loss')\n",
    "    plt.xlabel('Epoch')\n",
    "    save_fig(title+\"_loss\",IMG_PATH)\n",
    "    img_ = plt.show()\n",
    "    return histories\n",
    "\n",
    "\n",
    "\n",
    "\n",
    "\n",
    "histories = import_and_draw_history(TRIALS_ROOT,IMG_PATH,IDs,comparison_title)\n",
    "\n",
    "\n"
   ]
  }
 ],
 "metadata": {
  "kernelspec": {
   "display_name": "Python 3",
   "language": "python",
   "name": "python3"
  },
  "language_info": {
   "codemirror_mode": {
    "name": "ipython",
    "version": 3
   },
   "file_extension": ".py",
   "mimetype": "text/x-python",
   "name": "python",
   "nbconvert_exporter": "python",
   "pygments_lexer": "ipython3",
   "version": "3.7.5"
  },
  "toc": {
   "base_numbering": 1,
   "nav_menu": {},
   "number_sections": true,
   "sideBar": true,
   "skip_h1_title": false,
   "title_cell": "Table of Contents",
   "title_sidebar": "Contents",
   "toc_cell": false,
   "toc_position": {},
   "toc_section_display": true,
   "toc_window_display": false
  },
  "varInspector": {
   "cols": {
    "lenName": 16,
    "lenType": 16,
    "lenVar": 40
   },
   "kernels_config": {
    "python": {
     "delete_cmd_postfix": "",
     "delete_cmd_prefix": "del ",
     "library": "var_list.py",
     "varRefreshCmd": "print(var_dic_list())"
    },
    "r": {
     "delete_cmd_postfix": ") ",
     "delete_cmd_prefix": "rm(",
     "library": "var_list.r",
     "varRefreshCmd": "cat(var_dic_list()) "
    }
   },
   "types_to_exclude": [
    "module",
    "function",
    "builtin_function_or_method",
    "instance",
    "_Feature"
   ],
   "window_display": false
  }
 },
 "nbformat": 4,
 "nbformat_minor": 2
}
